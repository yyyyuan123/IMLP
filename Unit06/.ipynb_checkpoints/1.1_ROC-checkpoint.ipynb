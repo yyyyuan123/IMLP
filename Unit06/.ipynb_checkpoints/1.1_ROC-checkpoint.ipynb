{
 "cells": [
  {
   "cell_type": "code",
   "execution_count": null,
   "metadata": {},
   "outputs": [],
   "source": [
    "%matplotlib inline\n",
    "import numpy as np\n",
    "import matplotlib.pyplot as plt\n",
    "from sklearn.metrics import roc_curve, roc_auc_score, auc"
   ]
  },
  {
   "cell_type": "code",
   "execution_count": null,
   "metadata": {},
   "outputs": [],
   "source": [
    "# 讀取資料\n",
    "import pandas as pd\n",
    "df=pd.read_csv('data/data.csv')\n",
    "df"
   ]
  },
  {
   "cell_type": "markdown",
   "metadata": {},
   "source": [
    "### 資料內容如上，第一欄為預測為真的機率，第二欄為實際值。"
   ]
  },
  {
   "cell_type": "markdown",
   "metadata": {},
   "source": [
    "## Plot \n",
    "1. 計算第二欄的真(1)與假(0)的個數，假設分別為P及N，Y軸切成P格，X軸切成N格，如下圖。\n",
    "2. 以第一欄降冪排序，從大排到小。\n",
    "3. 依序掃描第二欄，若是1，就往『上』畫一格，反之，若是0，就往『右』畫一格，直到最後一列，如下圖。"
   ]
  },
  {
   "cell_type": "code",
   "execution_count": null,
   "metadata": {},
   "outputs": [],
   "source": [
    "# 計算第二欄的真(1)與假(0)的個數，假設分別為P及N\n",
    "P= df[df['actual']==1].shape[0]\n",
    "N= df[df['actual']==0].shape[0]\n",
    "print(P,N)\n",
    "y_unit=1/P\n",
    "X_unit=1/N"
   ]
  },
  {
   "cell_type": "code",
   "execution_count": null,
   "metadata": {},
   "outputs": [],
   "source": [
    "# 以第一欄降冪排序，從大排到小。\n",
    "df2=df.sort_values(by='predict', ascending=False)\n",
    "df2"
   ]
  },
  {
   "cell_type": "code",
   "execution_count": null,
   "metadata": {},
   "outputs": [],
   "source": [
    "# 依序掃描第二欄，計算每一座標點\n",
    "# 若是1，Y加一單位，反之，若是0，X加一單位\n",
    "X=[]\n",
    "y=[]\n",
    "current_X=0\n",
    "current_y=0\n",
    "for row in df2.itertuples():\n",
    "    # row[0] is index\n",
    "    print(row)\n",
    "    if row[2] == 1:\n",
    "        current_y+=y_unit\n",
    "    else:\n",
    "        current_X+=X_unit\n",
    "    print(current_y)\n",
    "    print(current_X)\n",
    "    X.append(current_X)\n",
    "    y.append(current_y)\n",
    "\n",
    "X=np.array(X)        \n",
    "y=np.array(y)    \n",
    "print(X, y)"
   ]
  },
  {
   "cell_type": "code",
   "execution_count": null,
   "metadata": {},
   "outputs": [],
   "source": [
    "# 繪圖。   \n",
    "plt.title('Receiver Operating Characteristic')\n",
    "plt.plot(X, y, color = 'orange')\n",
    "plt.legend(loc = 'lower right')\n",
    "plt.plot([0, 1], [0, 1],'r--')\n",
    "plt.xlim([0, 1])\n",
    "plt.ylim([0, 1])\n",
    "plt.ylabel('True Positive Rate')\n",
    "plt.xlabel('False Positive Rate')\n",
    "plt.show()    \n"
   ]
  },
  {
   "cell_type": "markdown",
   "metadata": {},
   "source": [
    "## Scikit-Learn "
   ]
  },
  {
   "cell_type": "code",
   "execution_count": null,
   "metadata": {},
   "outputs": [],
   "source": [
    "# 在各種『決策門檻』（decision threshold）下，計算 『真陽率』（True Positive Rate；TPR）與『假陽率』（False Positive Rate；FPR）\n",
    "fpr, tpr, threshold = roc_curve(df['actual'], df['predict'])\n",
    "print(fpr, tpr, threshold)\n",
    "#print(f'AUC={score:0.2f}')"
   ]
  },
  {
   "cell_type": "code",
   "execution_count": null,
   "metadata": {},
   "outputs": [],
   "source": [
    "auc1 = auc(fpr, tpr)\n",
    "## Plot the result\n",
    "plt.title('Receiver Operating Characteristic')\n",
    "plt.plot(fpr, tpr, color = 'orange', label = 'AUC = %0.2f' % auc1)\n",
    "plt.legend(loc = 'lower right')\n",
    "plt.plot([0, 1], [0, 1],'r--')\n",
    "plt.xlim([0, 1])\n",
    "plt.ylim([0, 1])\n",
    "plt.ylabel('True Positive Rate')\n",
    "plt.xlabel('False Positive Rate')\n",
    "plt.show()    \n"
   ]
  },
  {
   "cell_type": "code",
   "execution_count": null,
   "metadata": {},
   "outputs": [],
   "source": []
  }
 ],
 "metadata": {
  "kernelspec": {
   "display_name": "Python 3",
   "language": "python",
   "name": "python3"
  },
  "language_info": {
   "codemirror_mode": {
    "name": "ipython",
    "version": 3
   },
   "file_extension": ".py",
   "mimetype": "text/x-python",
   "name": "python",
   "nbconvert_exporter": "python",
   "pygments_lexer": "ipython3",
   "version": "3.8.8"
  }
 },
 "nbformat": 4,
 "nbformat_minor": 2
}
