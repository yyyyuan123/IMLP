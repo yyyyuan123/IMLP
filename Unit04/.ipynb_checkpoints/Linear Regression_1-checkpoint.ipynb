{
 "cells": [
  {
   "cell_type": "markdown",
   "metadata": {},
   "source": [
    "# Linear Regression\n"
   ]
  },
  {
   "cell_type": "code",
   "execution_count": 1,
   "metadata": {},
   "outputs": [],
   "source": [
    "%matplotlib inline\n",
    "import numpy as np\n",
    "import matplotlib.pyplot as plt"
   ]
  },
  {
   "cell_type": "markdown",
   "metadata": {},
   "source": [
    "## 1. 線性迴歸基本概念"
   ]
  },
  {
   "cell_type": "markdown",
   "metadata": {},
   "source": [
    "#### 直線\n",
    "\n",
    "$$f(x) = 1.2x + 0.8$$\n",
    "\n"
   ]
  },
  {
   "cell_type": "code",
   "execution_count": 2,
   "metadata": {},
   "outputs": [
    {
     "name": "stdout",
     "output_type": "stream",
     "text": [
      "[0.         0.10204082 0.20408163 0.30612245 0.40816327 0.51020408\n",
      " 0.6122449  0.71428571 0.81632653 0.91836735 1.02040816 1.12244898\n",
      " 1.2244898  1.32653061 1.42857143 1.53061224 1.63265306 1.73469388\n",
      " 1.83673469 1.93877551 2.04081633 2.14285714 2.24489796 2.34693878\n",
      " 2.44897959 2.55102041 2.65306122 2.75510204 2.85714286 2.95918367\n",
      " 3.06122449 3.16326531 3.26530612 3.36734694 3.46938776 3.57142857\n",
      " 3.67346939 3.7755102  3.87755102 3.97959184 4.08163265 4.18367347\n",
      " 4.28571429 4.3877551  4.48979592 4.59183673 4.69387755 4.79591837\n",
      " 4.89795918 5.        ]\n"
     ]
    }
   ],
   "source": [
    "#準備 50 個點\n",
    "#5-0/50 = 0.1 +....\n",
    "# 0~5線性切割\n",
    "x = np.linspace(0, 5, 50)\n",
    "print(x)"
   ]
  },
  {
   "cell_type": "code",
   "execution_count": 3,
   "metadata": {},
   "outputs": [
    {
     "data": {
      "text/plain": [
       "array([0.8       , 0.92244898, 1.04489796, 1.16734694, 1.28979592,\n",
       "       1.4122449 , 1.53469388, 1.65714286, 1.77959184, 1.90204082,\n",
       "       2.0244898 , 2.14693878, 2.26938776, 2.39183673, 2.51428571,\n",
       "       2.63673469, 2.75918367, 2.88163265, 3.00408163, 3.12653061,\n",
       "       3.24897959, 3.37142857, 3.49387755, 3.61632653, 3.73877551,\n",
       "       3.86122449, 3.98367347, 4.10612245, 4.22857143, 4.35102041,\n",
       "       4.47346939, 4.59591837, 4.71836735, 4.84081633, 4.96326531,\n",
       "       5.08571429, 5.20816327, 5.33061224, 5.45306122, 5.5755102 ,\n",
       "       5.69795918, 5.82040816, 5.94285714, 6.06530612, 6.1877551 ,\n",
       "       6.31020408, 6.43265306, 6.55510204, 6.67755102, 6.8       ])"
      ]
     },
     "execution_count": 3,
     "metadata": {},
     "output_type": "execute_result"
    }
   ],
   "source": [
    "y = 1.2*x + 0.8\n",
    "y"
   ]
  },
  {
   "cell_type": "code",
   "execution_count": 4,
   "metadata": {},
   "outputs": [
    {
     "data": {
      "text/plain": [
       "[<matplotlib.lines.Line2D at 0x26574b33340>]"
      ]
     },
     "execution_count": 4,
     "metadata": {},
     "output_type": "execute_result"
    },
    {
     "data": {
      "image/png": "[encoded data removed]",
      "text/plain": [
       "<Figure size 432x288 with 1 Axes>"
      ]
     },
     "metadata": {
      "needs_background": "light"
     },
     "output_type": "display_data"
    }
   ],
   "source": [
    "#畫圖\n",
    "plt.scatter(x,y)\n",
    "plt.plot(x, 1.2*x+0.8, 'r')"
   ]
  },
  {
   "cell_type": "markdown",
   "metadata": {},
   "source": [
    "#### add noise \n",
    "\n",
    "$$f(x) + \\varepsilon(x)$$\n"
   ]
  },
  {
   "cell_type": "code",
   "execution_count": 5,
   "metadata": {},
   "outputs": [
    {
     "name": "stdout",
     "output_type": "stream",
     "text": [
      "[0.41801121 1.64677718 1.48381861 1.04000771 1.43197172 1.30423441\n",
      " 1.34123673 1.12815023 1.11061451 3.01243453 2.12676776 2.58316862\n",
      " 2.78734949 0.83821029 3.24406922 2.25234448 2.64416372 3.3568008\n",
      " 2.64555325 4.12723941 2.73598852 3.84833708 4.27973998 3.8765851\n",
      " 4.52723062 3.90698505 4.96714635 5.24071483 4.09761001 4.58569274\n",
      " 4.35716079 5.11983612 5.57594777 4.89081363 4.55732739 5.59294614\n",
      " 6.35084563 5.35848318 5.68397271 5.29555565 5.49569087 6.19031402\n",
      " 6.18591197 5.96908807 5.0718613  5.86666076 7.6359449  7.55765724\n",
      " 6.48710707 7.66365334]\n"
     ]
    }
   ],
   "source": [
    "y = 1.2*x + 0.8 + 0.6*np.random.randn(50)\n",
    "print(y)"
   ]
  },
  {
   "cell_type": "code",
   "execution_count": 6,
   "metadata": {},
   "outputs": [
    {
     "data": {
      "text/plain": [
       "[<matplotlib.lines.Line2D at 0x26574c29b50>]"
      ]
     },
     "execution_count": 6,
     "metadata": {},
     "output_type": "execute_result"
    },
    {
     "data": {
      "image/png": "[encoded data removed]",
      "text/plain": [
       "<Figure size 432x288 with 1 Axes>"
      ]
     },
     "metadata": {
      "needs_background": "light"
     },
     "output_type": "display_data"
    }
   ],
   "source": [
    "plt.scatter(x,y)\n",
    "plt.plot(x, 1.2*x + 0.8, 'r')"
   ]
  },
  {
   "cell_type": "code",
   "execution_count": 7,
   "metadata": {},
   "outputs": [],
   "source": [
    "from sklearn.linear_model import LinearRegression\n",
    "regr = LinearRegression()"
   ]
  },
  {
   "cell_type": "code",
   "execution_count": 8,
   "metadata": {},
   "outputs": [
    {
     "data": {
      "text/plain": [
       "LinearRegression()"
      ]
     },
     "execution_count": 8,
     "metadata": {},
     "output_type": "execute_result"
    }
   ],
   "source": [
    "regr"
   ]
  },
  {
   "cell_type": "markdown",
   "metadata": {},
   "source": [
    "要求資料轉換<br>\n",
    "\n",
    "$$[x_1, x_2, \\ldots, x_{50}]$$\n",
    "\n",
    "==> \n",
    "\n",
    "$$[[x_1], [x_2], \\ldots, [x_{50}]]$$\n",
    "\n",
    "\n",
    "矩陣的概念"
   ]
  },
  {
   "cell_type": "code",
   "execution_count": 9,
   "metadata": {},
   "outputs": [
    {
     "name": "stdout",
     "output_type": "stream",
     "text": [
      "(50,)\n"
     ]
    },
    {
     "data": {
      "text/plain": [
       "(50, 1)"
      ]
     },
     "execution_count": 9,
     "metadata": {},
     "output_type": "execute_result"
    }
   ],
   "source": [
    "print(x.shape)\n",
    "X = x.reshape(-1,1)\n",
    "X.shape"
   ]
  },
  {
   "cell_type": "code",
   "execution_count": 10,
   "metadata": {},
   "outputs": [
    {
     "data": {
      "text/plain": [
       "LinearRegression()"
      ]
     },
     "execution_count": 10,
     "metadata": {},
     "output_type": "execute_result"
    }
   ],
   "source": [
    "regr.fit(X,y)"
   ]
  },
  {
   "cell_type": "code",
   "execution_count": 11,
   "metadata": {},
   "outputs": [
    {
     "name": "stdout",
     "output_type": "stream",
     "text": [
      "[0.86881686 0.9962086  1.12360035 1.2509921  1.37838384 1.50577559\n",
      " 1.63316734 1.76055909 1.88795083 2.01534258 2.14273433 2.27012607\n",
      " 2.39751782 2.52490957 2.65230131 2.77969306 2.90708481 3.03447655\n",
      " 3.1618683  3.28926005 3.41665179 3.54404354 3.67143529 3.79882703\n",
      " 3.92621878 4.05361053 4.18100227 4.30839402 4.43578577 4.56317751\n",
      " 4.69056926 4.81796101 4.94535276 5.0727445  5.20013625 5.327528\n",
      " 5.45491974 5.58231149 5.70970324 5.83709498 5.96448673 6.09187848\n",
      " 6.21927022 6.34666197 6.47405372 6.60144546 6.72883721 6.85622896\n",
      " 6.9836207  7.11101245]\n"
     ]
    }
   ],
   "source": [
    "Y = regr.predict(X)\n",
    "print(Y)"
   ]
  },
  {
   "cell_type": "code",
   "execution_count": 12,
   "metadata": {},
   "outputs": [
    {
     "data": {
      "text/plain": [
       "{'copy_X': True,\n",
       " 'fit_intercept': True,\n",
       " 'n_jobs': None,\n",
       " 'normalize': 'deprecated',\n",
       " 'positive': False}"
      ]
     },
     "execution_count": 12,
     "metadata": {},
     "output_type": "execute_result"
    }
   ],
   "source": [
    "#了解你的訓練參數\n",
    "regr.get_params()"
   ]
  },
  {
   "cell_type": "code",
   "execution_count": 13,
   "metadata": {},
   "outputs": [
    {
     "name": "stdout",
     "output_type": "stream",
     "text": [
      "0.3543856164725312\n"
     ]
    },
    {
     "data": {
      "image/png": "[encoded data removed]",
      "text/plain": [
       "<Figure size 432x288 with 1 Axes>"
      ]
     },
     "metadata": {
      "needs_background": "light"
     },
     "output_type": "display_data"
    }
   ],
   "source": [
    "plt.scatter(x, y) #原本 \n",
    "plt.plot(x, Y, 'ro') #預測\n",
    "#calculate mse\n",
    "mse = np.sum((Y-y)**2) / len(y)\n",
    "print(mse)"
   ]
  },
  {
   "cell_type": "code",
   "execution_count": 14,
   "metadata": {},
   "outputs": [
    {
     "data": {
      "text/plain": [
       "array([1.24843912])"
      ]
     },
     "execution_count": 14,
     "metadata": {},
     "output_type": "execute_result"
    }
   ],
   "source": [
    "#Y=WX+b\n",
    "W=regr.coef_#斜率\n",
    "W\n",
    "\n"
   ]
  },
  {
   "cell_type": "code",
   "execution_count": 15,
   "metadata": {},
   "outputs": [
    {
     "data": {
      "text/plain": [
       "0.8688168574877904"
      ]
     },
     "execution_count": 15,
     "metadata": {},
     "output_type": "execute_result"
    }
   ],
   "source": [
    "b=regr.intercept_ #截距\n",
    "b"
   ]
  },
  {
   "cell_type": "code",
   "execution_count": 16,
   "metadata": {},
   "outputs": [
    {
     "data": {
      "text/plain": [
       "array([0.86881686, 0.9962086 , 1.12360035, 1.2509921 , 1.37838384,\n",
       "       1.50577559, 1.63316734, 1.76055909, 1.88795083, 2.01534258,\n",
       "       2.14273433, 2.27012607, 2.39751782, 2.52490957, 2.65230131,\n",
       "       2.77969306, 2.90708481, 3.03447655, 3.1618683 , 3.28926005,\n",
       "       3.41665179, 3.54404354, 3.67143529, 3.79882703, 3.92621878,\n",
       "       4.05361053, 4.18100227, 4.30839402, 4.43578577, 4.56317751,\n",
       "       4.69056926, 4.81796101, 4.94535276, 5.0727445 , 5.20013625,\n",
       "       5.327528  , 5.45491974, 5.58231149, 5.70970324, 5.83709498,\n",
       "       5.96448673, 6.09187848, 6.21927022, 6.34666197, 6.47405372,\n",
       "       6.60144546, 6.72883721, 6.85622896, 6.9836207 , 7.11101245])"
      ]
     },
     "execution_count": 16,
     "metadata": {},
     "output_type": "execute_result"
    }
   ],
   "source": [
    "Y"
   ]
  },
  {
   "cell_type": "code",
   "execution_count": 17,
   "metadata": {
    "scrolled": true
   },
   "outputs": [
    {
     "data": {
      "text/plain": [
       "array([4.61413421])"
      ]
     },
     "execution_count": 17,
     "metadata": {},
     "output_type": "execute_result"
    }
   ],
   "source": [
    "#可以將新的x資料帶入算出結果\n",
    "W*3+b"
   ]
  },
  {
   "cell_type": "code",
   "execution_count": 18,
   "metadata": {},
   "outputs": [
    {
     "data": {
      "text/plain": [
       "array([0.41801121, 1.64677718, 1.48381861, 1.04000771, 1.43197172,\n",
       "       1.30423441, 1.34123673, 1.12815023, 1.11061451, 3.01243453,\n",
       "       2.12676776, 2.58316862, 2.78734949, 0.83821029, 3.24406922,\n",
       "       2.25234448, 2.64416372, 3.3568008 , 2.64555325, 4.12723941,\n",
       "       2.73598852, 3.84833708, 4.27973998, 3.8765851 , 4.52723062,\n",
       "       3.90698505, 4.96714635, 5.24071483, 4.09761001, 4.58569274,\n",
       "       4.35716079, 5.11983612, 5.57594777, 4.89081363, 4.55732739,\n",
       "       5.59294614, 6.35084563, 5.35848318, 5.68397271, 5.29555565,\n",
       "       5.49569087, 6.19031402, 6.18591197, 5.96908807, 5.0718613 ,\n",
       "       5.86666076, 7.6359449 , 7.55765724, 6.48710707, 7.66365334])"
      ]
     },
     "execution_count": 18,
     "metadata": {},
     "output_type": "execute_result"
    }
   ],
   "source": [
    "y"
   ]
  },
  {
   "cell_type": "code",
   "execution_count": null,
   "metadata": {},
   "outputs": [],
   "source": []
  }
 ],
 "metadata": {
  "anaconda-cloud": {},
  "kernelspec": {
   "display_name": "Python 3 (ipykernel)",
   "language": "python",
   "name": "python3"
  },
  "language_info": {
   "codemirror_mode": {
    "name": "ipython",
    "version": 3
   },
   "file_extension": ".py",
   "mimetype": "text/x-python",
   "name": "python",
   "nbconvert_exporter": "python",
   "pygments_lexer": "ipython3",
   "version": "3.9.12"
  }
 },
 "nbformat": 4,
 "nbformat_minor": 1
}
