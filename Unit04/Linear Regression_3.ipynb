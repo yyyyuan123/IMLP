{
 "cells": [
  {
   "cell_type": "markdown",
   "metadata": {},
   "source": [
    "# Linear Regression\n"
   ]
  },
  {
   "cell_type": "code",
   "execution_count": 1,
   "metadata": {},
   "outputs": [],
   "source": [
    "%matplotlib inline\n",
    "import numpy as np\n",
    "import matplotlib.pyplot as plt\n",
    "from sklearn.linear_model import LinearRegression"
   ]
  },
  {
   "cell_type": "markdown",
   "metadata": {},
   "source": [
    "## 3. Nonlinear\n",
    "\n",
    "$$f(x) = \\sin(3.2x) + 0.8x$$\n"
   ]
  },
  {
   "cell_type": "markdown",
   "metadata": {},
   "source": [
    "### 3. 生成假資料"
   ]
  },
  {
   "cell_type": "code",
   "execution_count": 2,
   "metadata": {},
   "outputs": [],
   "source": [
    "x = np.linspace(0, 5, 100)\n",
    "y = np.sin(3.2*x) + 0.8*x + 0.3*np.random.randn(100)"
   ]
  },
  {
   "cell_type": "code",
   "execution_count": 3,
   "metadata": {},
   "outputs": [
    {
     "data": {
      "text/plain": [
       "<matplotlib.collections.PathCollection at 0x2475abe9790>"
      ]
     },
     "execution_count": 3,
     "metadata": {},
     "output_type": "execute_result"
    },
    {
     "data": {
      "image/png": "[encoded data removed]",
      "text/plain": [
       "<Figure size 432x288 with 1 Axes>"
      ]
     },
     "metadata": {
      "needs_background": "light"
     },
     "output_type": "display_data"
    }
   ],
   "source": [
    "plt.scatter(x,y)"
   ]
  },
  {
   "cell_type": "markdown",
   "metadata": {},
   "source": [
    "#### nonlinear"
   ]
  },
  {
   "cell_type": "code",
   "execution_count": 4,
   "metadata": {},
   "outputs": [],
   "source": [
    "regr_lin = LinearRegression()"
   ]
  },
  {
   "cell_type": "code",
   "execution_count": 5,
   "metadata": {},
   "outputs": [
    {
     "name": "stdout",
     "output_type": "stream",
     "text": [
      "(100, 1)\n"
     ]
    }
   ],
   "source": [
    "X = x.reshape(-1, 1)\n",
    "print(X.shape)"
   ]
  },
  {
   "cell_type": "code",
   "execution_count": 6,
   "metadata": {},
   "outputs": [
    {
     "data": {
      "text/plain": [
       "LinearRegression()"
      ]
     },
     "execution_count": 6,
     "metadata": {},
     "output_type": "execute_result"
    }
   ],
   "source": [
    "regr_lin.fit(X,y)"
   ]
  },
  {
   "cell_type": "code",
   "execution_count": 7,
   "metadata": {},
   "outputs": [
    {
     "name": "stdout",
     "output_type": "stream",
     "text": [
      "0.5320272186065814\n"
     ]
    },
    {
     "data": {
      "image/png": "[encoded data removed]",
      "text/plain": [
       "<Figure size 432x288 with 1 Axes>"
      ]
     },
     "metadata": {
      "needs_background": "light"
     },
     "output_type": "display_data"
    }
   ],
   "source": [
    "Y=regr_lin.predict(X)\n",
    "plt.scatter(x,y)\n",
    "plt.plot(x,Y , color='r')\n",
    "mse = np.sum((Y-y)**2) / len(y)\n",
    "print(mse)"
   ]
  },
  {
   "cell_type": "markdown",
   "metadata": {},
   "source": [
    "果然超級不準, 該如何是好?"
   ]
  },
  {
   "cell_type": "markdown",
   "metadata": {},
   "source": [
    "#### 多項式\n",
    "\n",
    "多項式5次方"
   ]
  },
  {
   "cell_type": "markdown",
   "metadata": {},
   "source": [
    "$$\\widehat{y}=xw+b=w_{1}x_{1}+w_{2}x_{1}^{2}+w_{3}x_{1}^{3}+w_{4}x_{1}^{4}+w_{5}x_{1}^{5}+b$$"
   ]
  },
  {
   "cell_type": "code",
   "execution_count": 8,
   "metadata": {},
   "outputs": [
    {
     "name": "stdout",
     "output_type": "stream",
     "text": [
      "(100,)\n"
     ]
    }
   ],
   "source": [
    "print(x.shape)"
   ]
  },
  {
   "cell_type": "code",
   "execution_count": 9,
   "metadata": {},
   "outputs": [
    {
     "name": "stdout",
     "output_type": "stream",
     "text": [
      "(100, 5)\n"
     ]
    }
   ],
   "source": [
    "X_poly = np.array([[k, k**2, k**3, k**4, k**5] for k in x])  # add k**6 to try it\n",
    "print(X_poly.shape)"
   ]
  },
  {
   "cell_type": "code",
   "execution_count": 10,
   "metadata": {},
   "outputs": [],
   "source": [
    "regr_poly = LinearRegression()"
   ]
  },
  {
   "cell_type": "code",
   "execution_count": 11,
   "metadata": {},
   "outputs": [
    {
     "data": {
      "text/plain": [
       "LinearRegression()"
      ]
     },
     "execution_count": 11,
     "metadata": {},
     "output_type": "execute_result"
    }
   ],
   "source": [
    "regr_poly.fit(X_poly, y)"
   ]
  },
  {
   "cell_type": "code",
   "execution_count": 12,
   "metadata": {},
   "outputs": [
    {
     "data": {
      "text/plain": [
       "[<matplotlib.lines.Line2D at 0x2475b41f280>]"
      ]
     },
     "execution_count": 12,
     "metadata": {},
     "output_type": "execute_result"
    },
    {
     "data": {
      "image/png": "[encoded data removed]",
      "text/plain": [
       "<Figure size 432x288 with 1 Axes>"
      ]
     },
     "metadata": {
      "needs_background": "light"
     },
     "output_type": "display_data"
    }
   ],
   "source": [
    "plt.scatter(x,y)\n",
    "plt.plot(x, regr_poly.predict(X_poly), 'r')"
   ]
  },
  {
   "cell_type": "code",
   "execution_count": 13,
   "metadata": {},
   "outputs": [
    {
     "name": "stdout",
     "output_type": "stream",
     "text": [
      "Coefficients:  [-0.76725818  1.67220699 -0.86177936  0.19761304 -0.01605264]\n",
      "interception:  0.7252454467561136\n"
     ]
    }
   ],
   "source": [
    "print('Coefficients: ', regr_poly.coef_)\n",
    "print('interception: ', regr_poly.intercept_)"
   ]
  },
  {
   "cell_type": "code",
   "execution_count": 14,
   "metadata": {},
   "outputs": [
    {
     "data": {
      "text/plain": [
       "array([0.72524545, 0.69065069, 0.66393846, 0.64448813, 0.63170866,\n",
       "       0.62503798, 0.62394235, 0.62791572, 0.63647908, 0.64917988,\n",
       "       0.66559134, 0.68531184, 0.70796431, 0.73319555, 0.76067563,\n",
       "       0.79009726, 0.82117514, 0.85364532, 0.8872646 , 0.92180986,\n",
       "       0.95707745, 0.99288256, 1.02905856, 1.06545641, 1.10194397,\n",
       "       1.13840542, 1.17474061, 1.21086441, 1.24670609, 1.28220869,\n",
       "       1.3173284 , 1.35203388, 1.38630568, 1.42013559, 1.45352597,\n",
       "       1.48648919, 1.51904693, 1.55122957, 1.58307559, 1.61463086,\n",
       "       1.6459481 , 1.67708617, 1.70810949, 1.73908736, 1.77009338,\n",
       "       1.80120477, 1.83250176, 1.86406695, 1.89598469, 1.92834043,\n",
       "       1.96122009, 1.99470945, 2.02889347, 2.0638557 , 2.09967764,\n",
       "       2.13643809, 2.17421252, 2.21307244, 2.2530848 , 2.2943113 ,\n",
       "       2.33680778, 2.38062361, 2.42580103, 2.47237452, 2.52037018,\n",
       "       2.56980508, 2.62068665, 2.67301203, 2.72676741, 2.78192748,\n",
       "       2.83845469, 2.89629872, 2.95539576, 3.01566794, 3.07702266,\n",
       "       3.13935196, 3.20253192, 3.26642199, 3.33086436, 3.39568336,\n",
       "       3.46068478, 3.52565528, 3.59036173, 3.65455059, 3.71794726,\n",
       "       3.78025547, 3.84115664, 3.90030922, 3.95734811, 4.01188399,\n",
       "       4.06350266, 4.1117645 , 4.15620373, 4.19632785, 4.23161696,\n",
       "       4.26152318, 4.28546996, 4.30285149, 4.31303203, 4.31534532])"
      ]
     },
     "execution_count": 14,
     "metadata": {},
     "output_type": "execute_result"
    }
   ],
   "source": [
    "W=regr_poly.coef_\n",
    "b=regr_poly.intercept_\n",
    "np.dot(X_poly,W.T)+b"
   ]
  },
  {
   "cell_type": "code",
   "execution_count": 15,
   "metadata": {},
   "outputs": [
    {
     "data": {
      "text/plain": [
       "array([0.72524545, 0.69065069, 0.66393846, 0.64448813, 0.63170866,\n",
       "       0.62503798, 0.62394235, 0.62791572, 0.63647908, 0.64917988,\n",
       "       0.66559134, 0.68531184, 0.70796431, 0.73319555, 0.76067563,\n",
       "       0.79009726, 0.82117514, 0.85364532, 0.8872646 , 0.92180986,\n",
       "       0.95707745, 0.99288256, 1.02905856, 1.06545641, 1.10194397,\n",
       "       1.13840542, 1.17474061, 1.21086441, 1.24670609, 1.28220869,\n",
       "       1.3173284 , 1.35203388, 1.38630568, 1.42013559, 1.45352597,\n",
       "       1.48648919, 1.51904693, 1.55122957, 1.58307559, 1.61463086,\n",
       "       1.6459481 , 1.67708617, 1.70810949, 1.73908736, 1.77009338,\n",
       "       1.80120477, 1.83250176, 1.86406695, 1.89598469, 1.92834043,\n",
       "       1.96122009, 1.99470945, 2.02889347, 2.0638557 , 2.09967764,\n",
       "       2.13643809, 2.17421252, 2.21307244, 2.2530848 , 2.2943113 ,\n",
       "       2.33680778, 2.38062361, 2.42580103, 2.47237452, 2.52037018,\n",
       "       2.56980508, 2.62068665, 2.67301203, 2.72676741, 2.78192748,\n",
       "       2.83845469, 2.89629872, 2.95539576, 3.01566794, 3.07702266,\n",
       "       3.13935196, 3.20253192, 3.26642199, 3.33086436, 3.39568336,\n",
       "       3.46068478, 3.52565528, 3.59036173, 3.65455059, 3.71794726,\n",
       "       3.78025547, 3.84115664, 3.90030922, 3.95734811, 4.01188399,\n",
       "       4.06350266, 4.1117645 , 4.15620373, 4.19632785, 4.23161696,\n",
       "       4.26152318, 4.28546996, 4.30285149, 4.31303203, 4.31534532])"
      ]
     },
     "execution_count": 15,
     "metadata": {},
     "output_type": "execute_result"
    }
   ],
   "source": [
    "regr_poly.predict(X_poly)"
   ]
  },
  {
   "cell_type": "markdown",
   "metadata": {},
   "source": [
    "#### RBF\n",
    "\n",
    "$$\\phi_i = e^{-\\| x - c_i \\|^2/2\\sigma^2}$$"
   ]
  },
  {
   "cell_type": "code",
   "execution_count": 16,
   "metadata": {},
   "outputs": [],
   "source": [
    "# normal distrubution\n",
    "def RBF(x, center, sigma):\n",
    "    k = np.exp(-(x - center)**2/(2*sigma**2))\n",
    "    return k"
   ]
  },
  {
   "cell_type": "code",
   "execution_count": 17,
   "metadata": {},
   "outputs": [],
   "source": [
    "sigma = 0.3"
   ]
  },
  {
   "cell_type": "code",
   "execution_count": 18,
   "metadata": {},
   "outputs": [],
   "source": [
    "X_rbf = np.array([[RBF(k, .5, sigma), \n",
    "                  RBF(k, 1.5, sigma),\n",
    "                  RBF(k, 2.5, sigma),\n",
    "                  RBF(k, 3.5, sigma),\n",
    "                  RBF(k, 4.5, sigma)] for k in x])\n",
    "\n"
   ]
  },
  {
   "cell_type": "code",
   "execution_count": 19,
   "metadata": {},
   "outputs": [],
   "source": [
    "regr_rbf = LinearRegression()"
   ]
  },
  {
   "cell_type": "code",
   "execution_count": 20,
   "metadata": {},
   "outputs": [
    {
     "data": {
      "text/plain": [
       "LinearRegression()"
      ]
     },
     "execution_count": 20,
     "metadata": {},
     "output_type": "execute_result"
    }
   ],
   "source": [
    "regr_rbf.fit(X_rbf, y)"
   ]
  },
  {
   "cell_type": "code",
   "execution_count": 21,
   "metadata": {
    "scrolled": true
   },
   "outputs": [
    {
     "data": {
      "text/plain": [
       "[<matplotlib.lines.Line2D at 0x2475b4838b0>]"
      ]
     },
     "execution_count": 21,
     "metadata": {},
     "output_type": "execute_result"
    },
    {
     "data": {
      "image/png": "[encoded data removed]",
      "text/plain": [
       "<Figure size 432x288 with 1 Axes>"
      ]
     },
     "metadata": {
      "needs_background": "light"
     },
     "output_type": "display_data"
    }
   ],
   "source": [
    "plt.scatter(x,y)\n",
    "plt.plot(x, regr_rbf.predict(X_rbf), 'r')"
   ]
  },
  {
   "cell_type": "code",
   "execution_count": 22,
   "metadata": {},
   "outputs": [
    {
     "name": "stdout",
     "output_type": "stream",
     "text": [
      "Coefficients:  [-0.85303005 -1.5710147   1.3580313   0.38373694  3.37009238]\n",
      "interception:  1.770860493181273\n"
     ]
    }
   ],
   "source": [
    "print('Coefficients: ', regr_rbf.coef_)\n",
    "print('interception: ', regr_rbf.intercept_)"
   ]
  },
  {
   "cell_type": "markdown",
   "metadata": {},
   "source": [
    "#### Comparison"
   ]
  },
  {
   "cell_type": "code",
   "execution_count": 23,
   "metadata": {},
   "outputs": [],
   "source": [
    "Y_lin = regr_lin.predict(X)\n",
    "Y_poly = regr_poly.predict(X_poly)\n",
    "Y_rbf = regr_rbf.predict(X_rbf)"
   ]
  },
  {
   "cell_type": "code",
   "execution_count": 24,
   "metadata": {
    "scrolled": true
   },
   "outputs": [
    {
     "data": {
      "text/plain": [
       "<matplotlib.legend.Legend at 0x2475b396370>"
      ]
     },
     "execution_count": 24,
     "metadata": {},
     "output_type": "execute_result"
    },
    {
     "data": {
      "image/png": "[encoded data removed]",
      "text/plain": [
       "<Figure size 432x288 with 1 Axes>"
      ]
     },
     "metadata": {
      "needs_background": "light"
     },
     "output_type": "display_data"
    }
   ],
   "source": [
    "plt.scatter(x,y)\n",
    "\n",
    "plt.plot(x, Y_lin, label='linear')\n",
    "plt.plot(x, Y_poly, label='polynomial')\n",
    "plt.plot(x, Y_rbf, label='rbf')\n",
    "plt.legend()"
   ]
  },
  {
   "cell_type": "markdown",
   "metadata": {
    "collapsed": true
   },
   "source": [
    "## 請計算模型的MSE"
   ]
  },
  {
   "cell_type": "code",
   "execution_count": 25,
   "metadata": {},
   "outputs": [
    {
     "name": "stdout",
     "output_type": "stream",
     "text": [
      "0.5320272186065814\n"
     ]
    }
   ],
   "source": [
    "print(np.sum((regr_lin.predict(X)-y)**2) / len(y))"
   ]
  },
  {
   "cell_type": "code",
   "execution_count": 26,
   "metadata": {},
   "outputs": [
    {
     "name": "stdout",
     "output_type": "stream",
     "text": [
      "0.4956812179037699\n"
     ]
    }
   ],
   "source": [
    "print(np.sum((regr_poly.predict(X_poly)-y)**2) / len(y))"
   ]
  },
  {
   "cell_type": "code",
   "execution_count": 27,
   "metadata": {},
   "outputs": [
    {
     "name": "stdout",
     "output_type": "stream",
     "text": [
      "0.2808429709126513\n"
     ]
    }
   ],
   "source": [
    "print(np.sum((regr_rbf.predict(X_rbf)-y)**2) / len(y))"
   ]
  },
  {
   "cell_type": "code",
   "execution_count": null,
   "metadata": {},
   "outputs": [],
   "source": []
  },
  {
   "cell_type": "code",
   "execution_count": null,
   "metadata": {},
   "outputs": [],
   "source": []
  }
 ],
 "metadata": {
  "anaconda-cloud": {},
  "kernelspec": {
   "display_name": "Python 3 (ipykernel)",
   "language": "python",
   "name": "python3"
  },
  "language_info": {
   "codemirror_mode": {
    "name": "ipython",
    "version": 3
   },
   "file_extension": ".py",
   "mimetype": "text/x-python",
   "name": "python",
   "nbconvert_exporter": "python",
   "pygments_lexer": "ipython3",
   "version": "3.9.12"
  }
 },
 "nbformat": 4,
 "nbformat_minor": 1
}
