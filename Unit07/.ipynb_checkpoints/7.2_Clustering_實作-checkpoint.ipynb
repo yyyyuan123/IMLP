{
 "cells": [
  {
   "cell_type": "markdown",
   "metadata": {},
   "source": [
    "# Unsupervised Learning –Clustering\n",
    "    1) K-means,K-means++\n",
    "    2) Hierarchical Method\n"
   ]
  },
  {
   "cell_type": "code",
   "execution_count": 1,
   "metadata": {},
   "outputs": [],
   "source": [
    "import numpy as np\n",
    "import matplotlib.pyplot as plt\n",
    "from sklearn.cluster import KMeans"
   ]
  },
  {
   "cell_type": "code",
   "execution_count": 2,
   "metadata": {},
   "outputs": [],
   "source": [
    "def plot_scatter(X,  color='k', alpha=0.6):\n",
    "    #if use color index , the index must be between 0 and 1    \n",
    "    return plt.scatter(X[:, 0],\n",
    "                       X[:, 1],\n",
    "                       c=color,\n",
    "                       alpha=alpha,\n",
    "                       edgecolor='k')    \n"
   ]
  },
  {
   "cell_type": "markdown",
   "metadata": {},
   "source": [
    "## Genearte sample data and visualiztion"
   ]
  },
  {
   "cell_type": "code",
   "execution_count": 3,
   "metadata": {
    "scrolled": true
   },
   "outputs": [
    {
     "name": "stdout",
     "output_type": "stream",
     "text": [
      "[53.39911219  4.81270654]\n",
      "[17.53488626  4.95011559]\n"
     ]
    }
   ],
   "source": [
    "n1=5\n",
    "n2=5\n",
    "# cluster \n",
    "x1 = np.random.normal(60,10, n1)  # np.random.normal(mu,sigma,size))\n",
    "y1 = np.random.normal(5, 0.5,n1)\n",
    "C1=np.array(list(zip(x1,y1)))\n",
    "# cluster \n",
    "x2 = np.random.normal(30,10,n2)\n",
    "y2 = np.random.normal(5,0.5,n2)\n",
    "C2=np.array(list(zip(x2,y2)))\n",
    "\n",
    "X_train = np.concatenate((C1,C2))\n",
    "\n",
    "print(np.mean(C1,axis=0))\n",
    "print(np.mean(C2,axis=0))"
   ]
  },
  {
   "cell_type": "code",
   "execution_count": 4,
   "metadata": {},
   "outputs": [
    {
     "data": {
      "text/plain": [
       "array([[58.55243898,  5.19527945],\n",
       "       [39.90468209,  4.62160421],\n",
       "       [53.992246  ,  4.62725709],\n",
       "       [37.33343127,  4.23514565],\n",
       "       [77.2127626 ,  5.38424629],\n",
       "       [22.53142779,  4.60118032],\n",
       "       [ 9.90583291,  5.5779637 ],\n",
       "       [34.1667416 ,  4.61272804],\n",
       "       [ 5.92142645,  4.6035394 ],\n",
       "       [15.14900255,  5.35516648]])"
      ]
     },
     "execution_count": 4,
     "metadata": {},
     "output_type": "execute_result"
    }
   ],
   "source": [
    "X_train "
   ]
  },
  {
   "cell_type": "code",
   "execution_count": 5,
   "metadata": {},
   "outputs": [
    {
     "data": {
      "image/png": "[encoded data removed]",
      "text/plain": [
       "<Figure size 432x288 with 1 Axes>"
      ]
     },
     "metadata": {
      "needs_background": "light"
     },
     "output_type": "display_data"
    }
   ],
   "source": [
    "plot_scatter(C1,color='b')\n",
    "plot_scatter(C2,color='r')\n",
    "plt.show()"
   ]
  },
  {
   "cell_type": "code",
   "execution_count": 6,
   "metadata": {},
   "outputs": [
    {
     "data": {
      "text/plain": [
       "array([[58.55243898,  5.19527945],\n",
       "       [39.90468209,  4.62160421],\n",
       "       [53.992246  ,  4.62725709],\n",
       "       [37.33343127,  4.23514565],\n",
       "       [77.2127626 ,  5.38424629],\n",
       "       [22.53142779,  4.60118032],\n",
       "       [ 9.90583291,  5.5779637 ],\n",
       "       [34.1667416 ,  4.61272804],\n",
       "       [ 5.92142645,  4.6035394 ],\n",
       "       [15.14900255,  5.35516648]])"
      ]
     },
     "execution_count": 6,
     "metadata": {},
     "output_type": "execute_result"
    }
   ],
   "source": [
    "X_train"
   ]
  },
  {
   "cell_type": "code",
   "execution_count": 7,
   "metadata": {},
   "outputs": [
    {
     "data": {
      "text/plain": [
       "(10, 2)"
      ]
     },
     "execution_count": 7,
     "metadata": {},
     "output_type": "execute_result"
    }
   ],
   "source": [
    "X_train.shape"
   ]
  },
  {
   "cell_type": "code",
   "execution_count": 8,
   "metadata": {
    "scrolled": false
   },
   "outputs": [
    {
     "data": {
      "image/png": "[encoded data removed]",
      "text/plain": [
       "<Figure size 432x288 with 1 Axes>"
      ]
     },
     "metadata": {
      "needs_background": "light"
     },
     "output_type": "display_data"
    }
   ],
   "source": [
    "plot_scatter(X_train)\n",
    "plt.show()"
   ]
  },
  {
   "cell_type": "code",
   "execution_count": 9,
   "metadata": {},
   "outputs": [
    {
     "name": "stdout",
     "output_type": "stream",
     "text": [
      "mean: [35.46699923  4.88141106]\n",
      "std: [21.79486732  0.42879736]\n"
     ]
    }
   ],
   "source": [
    "print('mean:',np.mean(X_train,axis=0))\n",
    "print('std:',np.std(X_train,axis=0))"
   ]
  },
  {
   "cell_type": "markdown",
   "metadata": {},
   "source": [
    "# K-means algorithm\n",
    "![](images/kmeans.png)\n",
    "```    \n",
    "    init : {‘k-means++’, ‘random’ or an ndarray} Method for initialization, defaults to ‘k-means++’:\n",
    "    ‘k-means++’ : selects initial cluster centers for k-mean clustering in a smart way to speed up convergence.\n",
    "    ‘random’: choose k observations (rows) at random from data for the initial centroids.\n",
    "    If an ndarray is passed, it should be of shape (n_clusters, n_features) and gives the initial centers.\n",
    "```    \n"
   ]
  },
  {
   "cell_type": "code",
   "execution_count": 10,
   "metadata": {
    "scrolled": false
   },
   "outputs": [
    {
     "data": {
      "text/plain": [
       "KMeans(init='random', n_clusters=2)"
      ]
     },
     "execution_count": 10,
     "metadata": {},
     "output_type": "execute_result"
    }
   ],
   "source": [
    "kmeans = KMeans(init='random',n_clusters=2).fit(X_train)\n",
    "kmeans"
   ]
  },
  {
   "cell_type": "code",
   "execution_count": 11,
   "metadata": {},
   "outputs": [
    {
     "data": {
      "text/plain": [
       "array([1, 1])"
      ]
     },
     "execution_count": 11,
     "metadata": {},
     "output_type": "execute_result"
    }
   ],
   "source": [
    "kmeans.predict([[80, 0], [100, 3]])"
   ]
  },
  {
   "cell_type": "code",
   "execution_count": 12,
   "metadata": {},
   "outputs": [
    {
     "data": {
      "text/plain": [
       "array([0])"
      ]
     },
     "execution_count": 12,
     "metadata": {},
     "output_type": "execute_result"
    }
   ],
   "source": [
    "kmeans.predict([[28, 5]])"
   ]
  },
  {
   "cell_type": "code",
   "execution_count": 13,
   "metadata": {
    "scrolled": true
   },
   "outputs": [
    {
     "data": {
      "text/plain": [
       "array([1, 0, 1, 0, 1, 0, 0, 0, 0, 0])"
      ]
     },
     "execution_count": 13,
     "metadata": {},
     "output_type": "execute_result"
    }
   ],
   "source": [
    "kmeans.predict(X_train)"
   ]
  },
  {
   "cell_type": "code",
   "execution_count": 14,
   "metadata": {
    "scrolled": false
   },
   "outputs": [
    {
     "data": {
      "text/plain": [
       "array([[23.55893495,  4.80104683],\n",
       "       [63.25248253,  5.06892761]])"
      ]
     },
     "execution_count": 14,
     "metadata": {},
     "output_type": "execute_result"
    }
   ],
   "source": [
    "kmeans.cluster_centers_"
   ]
  },
  {
   "cell_type": "code",
   "execution_count": 15,
   "metadata": {},
   "outputs": [
    {
     "data": {
      "text/plain": [
       "array([[58.55243898,  5.19527945],\n",
       "       [39.90468209,  4.62160421],\n",
       "       [53.992246  ,  4.62725709],\n",
       "       [37.33343127,  4.23514565],\n",
       "       [77.2127626 ,  5.38424629],\n",
       "       [22.53142779,  4.60118032],\n",
       "       [ 9.90583291,  5.5779637 ],\n",
       "       [34.1667416 ,  4.61272804],\n",
       "       [ 5.92142645,  4.6035394 ],\n",
       "       [15.14900255,  5.35516648]])"
      ]
     },
     "execution_count": 15,
     "metadata": {},
     "output_type": "execute_result"
    }
   ],
   "source": [
    "X_train"
   ]
  },
  {
   "cell_type": "code",
   "execution_count": 16,
   "metadata": {
    "scrolled": false
   },
   "outputs": [
    {
     "data": {
      "text/plain": [
       "array([1, 0, 1, 0, 1, 0, 0, 0, 0, 0])"
      ]
     },
     "execution_count": 16,
     "metadata": {},
     "output_type": "execute_result"
    }
   ],
   "source": [
    "kmeans.labels_"
   ]
  },
  {
   "cell_type": "markdown",
   "metadata": {},
   "source": [
    "####  Coordinates of cluster centers. "
   ]
  },
  {
   "cell_type": "code",
   "execution_count": 17,
   "metadata": {},
   "outputs": [
    {
     "data": {
      "text/plain": [
       "array([[23.55893495,  4.80104683],\n",
       "       [63.25248253,  5.06892761]])"
      ]
     },
     "execution_count": 17,
     "metadata": {},
     "output_type": "execute_result"
    }
   ],
   "source": [
    "kmeans.cluster_centers_"
   ]
  },
  {
   "cell_type": "markdown",
   "metadata": {},
   "source": [
    "##    Plot Scatter\n",
    "    1. 將資料點繪製成scatter圖. 請依據K-means分群後的結果來給予不同cluster有不同的顏色\n",
    "       (cluster數非固定值)\n",
    "    2. 將K-means中心點資料點也繪製上去並有較大圖樣"
   ]
  },
  {
   "cell_type": "code",
   "execution_count": 18,
   "metadata": {},
   "outputs": [
    {
     "data": {
      "text/plain": [
       "array([1, 0, 1, 0, 1, 0, 0, 0, 0, 0])"
      ]
     },
     "execution_count": 18,
     "metadata": {},
     "output_type": "execute_result"
    }
   ],
   "source": [
    "kmeans.predict(X_train)"
   ]
  },
  {
   "cell_type": "code",
   "execution_count": 19,
   "metadata": {},
   "outputs": [
    {
     "data": {
      "image/png": "[encoded data removed]",
      "text/plain": [
       "<Figure size 432x288 with 1 Axes>"
      ]
     },
     "metadata": {
      "needs_background": "light"
     },
     "output_type": "display_data"
    }
   ],
   "source": [
    "plot_scatter(X_train,kmeans.predict(X_train))\n",
    "plt.title(\"K-means\")\n",
    "plt.show()"
   ]
  },
  {
   "cell_type": "code",
   "execution_count": 20,
   "metadata": {
    "scrolled": true
   },
   "outputs": [
    {
     "data": {
      "text/plain": [
       "array([[23.55893495,  4.80104683],\n",
       "       [63.25248253,  5.06892761]])"
      ]
     },
     "execution_count": 20,
     "metadata": {},
     "output_type": "execute_result"
    }
   ],
   "source": [
    "kmeans.cluster_centers_"
   ]
  },
  {
   "cell_type": "code",
   "execution_count": 21,
   "metadata": {},
   "outputs": [
    {
     "data": {
      "text/plain": [
       "array([4.80104683, 5.06892761])"
      ]
     },
     "execution_count": 21,
     "metadata": {},
     "output_type": "execute_result"
    }
   ],
   "source": [
    "kmeans.cluster_centers_[:,1]"
   ]
  },
  {
   "cell_type": "code",
   "execution_count": 22,
   "metadata": {},
   "outputs": [
    {
     "data": {
      "text/plain": [
       "array([1, 0, 1, 0, 1, 0, 0, 0, 0, 0])"
      ]
     },
     "execution_count": 22,
     "metadata": {},
     "output_type": "execute_result"
    }
   ],
   "source": [
    "kmeans.predict(X_train)"
   ]
  },
  {
   "cell_type": "code",
   "execution_count": 23,
   "metadata": {},
   "outputs": [
    {
     "data": {
      "image/png": "[encoded data removed]",
      "text/plain": [
       "<Figure size 864x288 with 2 Axes>"
      ]
     },
     "metadata": {
      "needs_background": "light"
     },
     "output_type": "display_data"
    }
   ],
   "source": [
    "plt.figure(figsize=(12, 4))\n",
    "plt.subplot(121)\n",
    "plot_scatter(C1,color='b')\n",
    "plot_scatter(C2,color='r')\n",
    "plt.subplot(122)\n",
    "plot_scatter(X_train,color=kmeans.predict(X_train)/len(kmeans.cluster_centers_))\n",
    "plt.scatter(kmeans.cluster_centers_[:,0],kmeans.cluster_centers_[:,1],c='red')\n",
    "plt.title(\"Clustering by K-means\")\n",
    "plt.show()\n"
   ]
  },
  {
   "cell_type": "markdown",
   "metadata": {},
   "source": [
    "## Apply K-means with re-scaled data"
   ]
  },
  {
   "cell_type": "markdown",
   "metadata": {},
   "source": [
    "## Feature Re-scale "
   ]
  },
  {
   "cell_type": "code",
   "execution_count": 24,
   "metadata": {},
   "outputs": [
    {
     "name": "stdout",
     "output_type": "stream",
     "text": [
      "[35.46699923  4.88141106]\n",
      "[21.79486732  0.42879736]\n"
     ]
    }
   ],
   "source": [
    "from sklearn.preprocessing import StandardScaler\n",
    "sc = StandardScaler().fit(X_train)  #Compute the statistics to be used for later scaling.\n",
    "print(sc.mean_)  #mean\n",
    "print(sc.scale_) #standard deviation"
   ]
  },
  {
   "cell_type": "code",
   "execution_count": 25,
   "metadata": {},
   "outputs": [
    {
     "data": {
      "text/plain": [
       "array([[58.55243898,  5.19527945],\n",
       "       [39.90468209,  4.62160421],\n",
       "       [53.992246  ,  4.62725709],\n",
       "       [37.33343127,  4.23514565],\n",
       "       [77.2127626 ,  5.38424629],\n",
       "       [22.53142779,  4.60118032],\n",
       "       [ 9.90583291,  5.5779637 ],\n",
       "       [34.1667416 ,  4.61272804],\n",
       "       [ 5.92142645,  4.6035394 ],\n",
       "       [15.14900255,  5.35516648]])"
      ]
     },
     "execution_count": 25,
     "metadata": {},
     "output_type": "execute_result"
    }
   ],
   "source": [
    "X_train"
   ]
  },
  {
   "cell_type": "code",
   "execution_count": 26,
   "metadata": {},
   "outputs": [
    {
     "data": {
      "text/plain": [
       "array([[ 1.05921451,  0.7319737 ],\n",
       "       [ 0.20361137, -0.60589658],\n",
       "       [ 0.84998209, -0.59271349],\n",
       "       [ 0.08563631, -1.50715812],\n",
       "       [ 1.91539424,  1.17266401],\n",
       "       [-0.59351458, -0.65352721],\n",
       "       [-1.1728067 ,  1.62443313],\n",
       "       [-0.05965889, -0.62659674],\n",
       "       [-1.35562068, -0.64802559],\n",
       "       [-0.93223769,  1.10484688]])"
      ]
     },
     "execution_count": 26,
     "metadata": {},
     "output_type": "execute_result"
    }
   ],
   "source": [
    "#transform: (x-u)/std.\n",
    "X_train_std = sc.transform(X_train)\n",
    "X_train_std\n"
   ]
  },
  {
   "cell_type": "code",
   "execution_count": 27,
   "metadata": {},
   "outputs": [
    {
     "data": {
      "text/plain": [
       "array([ 0., -0.])"
      ]
     },
     "execution_count": 27,
     "metadata": {},
     "output_type": "execute_result"
    }
   ],
   "source": [
    "np.round(np.mean(X_train_std,axis=0),2)"
   ]
  },
  {
   "cell_type": "code",
   "execution_count": 28,
   "metadata": {},
   "outputs": [
    {
     "data": {
      "text/plain": [
       "array([1., 1.])"
      ]
     },
     "execution_count": 28,
     "metadata": {},
     "output_type": "execute_result"
    }
   ],
   "source": [
    "np.std(X_train_std,axis=0)"
   ]
  },
  {
   "cell_type": "code",
   "execution_count": 29,
   "metadata": {},
   "outputs": [
    {
     "data": {
      "text/plain": [
       "<matplotlib.collections.PathCollection at 0x1e30ffc7880>"
      ]
     },
     "execution_count": 29,
     "metadata": {},
     "output_type": "execute_result"
    },
    {
     "data": {
      "image/png": "[encoded data removed]",
      "text/plain": [
       "<Figure size 432x288 with 1 Axes>"
      ]
     },
     "metadata": {
      "needs_background": "light"
     },
     "output_type": "display_data"
    }
   ],
   "source": [
    "plot_scatter(X_train_std[:n1],color='b')\n",
    "plot_scatter(X_train_std[n1:],color='r')"
   ]
  },
  {
   "cell_type": "code",
   "execution_count": 30,
   "metadata": {},
   "outputs": [
    {
     "data": {
      "text/plain": [
       "KMeans(n_clusters=2, random_state=0)"
      ]
     },
     "execution_count": 30,
     "metadata": {},
     "output_type": "execute_result"
    }
   ],
   "source": [
    "kmeans_std = KMeans(n_clusters=2, random_state=0).fit(X_train_std)\n",
    "kmeans_std "
   ]
  },
  {
   "cell_type": "code",
   "execution_count": 31,
   "metadata": {
    "scrolled": true
   },
   "outputs": [
    {
     "data": {
      "text/plain": [
       "array([1, 0, 0, 0, 1, 0, 1, 0, 0, 1])"
      ]
     },
     "execution_count": 31,
     "metadata": {},
     "output_type": "execute_result"
    }
   ],
   "source": [
    "kmeans_std.labels_"
   ]
  },
  {
   "cell_type": "markdown",
   "metadata": {},
   "source": [
    "####  Coordinates of cluster centers"
   ]
  },
  {
   "cell_type": "code",
   "execution_count": 32,
   "metadata": {},
   "outputs": [
    {
     "data": {
      "text/plain": [
       "array([[-0.1449274 , -0.77231962],\n",
       "       [ 0.21739109,  1.15847943]])"
      ]
     },
     "execution_count": 32,
     "metadata": {},
     "output_type": "execute_result"
    }
   ],
   "source": [
    "kmeans_std.cluster_centers_"
   ]
  },
  {
   "cell_type": "markdown",
   "metadata": {},
   "source": [
    "### plot"
   ]
  },
  {
   "cell_type": "code",
   "execution_count": 33,
   "metadata": {},
   "outputs": [
    {
     "data": {
      "image/png": "[encoded data removed]",
      "text/plain": [
       "<Figure size 864x288 with 2 Axes>"
      ]
     },
     "metadata": {
      "needs_background": "light"
     },
     "output_type": "display_data"
    }
   ],
   "source": [
    "plt.figure(figsize=(12, 4))\n",
    "plt.subplot(121)\n",
    "plot_scatter(X_train_std[:n1],color='b')\n",
    "plot_scatter(X_train_std[n1:],color='r')\n",
    "plt.subplot(122)\n",
    "plot_scatter(X_train_std,kmeans_std.predict(X_train_std))\n",
    "plt.scatter(kmeans_std.cluster_centers_[:,0],kmeans_std.cluster_centers_[:,1],c='red',s=60)\n",
    "plt.title(\"Clustering by K-means\")\n",
    "plt.show()\n"
   ]
  },
  {
   "cell_type": "markdown",
   "metadata": {},
   "source": [
    "## Agglomerative algorithm\n",
    "    1) linkage : {“ward”, “complete”, “average”, “single”}, optional (default=”ward”)\n",
    "    \n",
    "    2.) affinity : string or callable, default: “euclidean”\n",
    "    Metric used to compute the linkage. Can be “euclidean”, “l1”, “l2”, “manhattan”, “cosine”, or “precomputed”. If linkage is “ward”, only “euclidean” is accepted. If “precomputed”, a distance matrix (instead of a similarity matrix) is needed as input for the fit method."
   ]
  },
  {
   "cell_type": "code",
   "execution_count": 34,
   "metadata": {},
   "outputs": [],
   "source": [
    "from sklearn.cluster import AgglomerativeClustering\n",
    "import numpy as np"
   ]
  },
  {
   "cell_type": "code",
   "execution_count": 35,
   "metadata": {},
   "outputs": [
    {
     "data": {
      "text/plain": [
       "AgglomerativeClustering()"
      ]
     },
     "execution_count": 35,
     "metadata": {},
     "output_type": "execute_result"
    }
   ],
   "source": [
    "acv = AgglomerativeClustering(n_clusters=2,linkage='ward').fit(X_train)\n",
    "acv"
   ]
  },
  {
   "cell_type": "code",
   "execution_count": 36,
   "metadata": {
    "scrolled": true
   },
   "outputs": [
    {
     "data": {
      "text/plain": [
       "array([1, 0, 1, 0, 1, 0, 0, 0, 0, 0], dtype=int64)"
      ]
     },
     "execution_count": 36,
     "metadata": {},
     "output_type": "execute_result"
    }
   ],
   "source": [
    "acv.labels_"
   ]
  },
  {
   "cell_type": "code",
   "execution_count": 37,
   "metadata": {},
   "outputs": [
    {
     "data": {
      "text/plain": [
       "array([1, 0, 1, 0, 1, 0, 0, 0, 0, 0], dtype=int64)"
      ]
     },
     "execution_count": 37,
     "metadata": {},
     "output_type": "execute_result"
    }
   ],
   "source": [
    "cluster_labels=acv.fit_predict(X_train)\n",
    "cluster_labels"
   ]
  },
  {
   "cell_type": "code",
   "execution_count": 38,
   "metadata": {},
   "outputs": [
    {
     "data": {
      "image/png": "[encoded data removed]",
      "text/plain": [
       "<Figure size 432x288 with 1 Axes>"
      ]
     },
     "metadata": {
      "needs_background": "light"
     },
     "output_type": "display_data"
    }
   ],
   "source": [
    "plot_scatter(X_train, acv.fit_predict(X_train))\n",
    "plt.title(\"Ward Linkage\")\n",
    "plt.show()"
   ]
  },
  {
   "cell_type": "code",
   "execution_count": 39,
   "metadata": {},
   "outputs": [
    {
     "data": {
      "text/plain": [
       "array([[58.55243898,  5.19527945],\n",
       "       [39.90468209,  4.62160421],\n",
       "       [53.992246  ,  4.62725709],\n",
       "       [37.33343127,  4.23514565],\n",
       "       [77.2127626 ,  5.38424629],\n",
       "       [22.53142779,  4.60118032],\n",
       "       [ 9.90583291,  5.5779637 ],\n",
       "       [34.1667416 ,  4.61272804],\n",
       "       [ 5.92142645,  4.6035394 ],\n",
       "       [15.14900255,  5.35516648]])"
      ]
     },
     "execution_count": 39,
     "metadata": {},
     "output_type": "execute_result"
    }
   ],
   "source": [
    "X_train"
   ]
  },
  {
   "cell_type": "markdown",
   "metadata": {},
   "source": [
    "## distance matrix"
   ]
  },
  {
   "cell_type": "code",
   "execution_count": 40,
   "metadata": {
    "scrolled": false
   },
   "outputs": [
    {
     "data": {
      "text/plain": [
       "array([[ 0. , 18.7,  4.6, 21.2, 18.7, 36. , 48.6, 24.4, 52.6, 43.4],\n",
       "       [18.7,  0. , 14.1,  2.6, 37.3, 17.4, 30. ,  5.7, 34. , 24.8],\n",
       "       [ 4.6, 14.1,  0. , 16.7, 23.2, 31.5, 44.1, 19.8, 48.1, 38.9],\n",
       "       [21.2,  2.6, 16.7,  0. , 39.9, 14.8, 27.5,  3.2, 31.4, 22.2],\n",
       "       [18.7, 37.3, 23.2, 39.9,  0. , 54.7, 67.3, 43.1, 71.3, 62.1],\n",
       "       [36. , 17.4, 31.5, 14.8, 54.7,  0. , 12.7, 11.6, 16.6,  7.4],\n",
       "       [48.6, 30. , 44.1, 27.5, 67.3, 12.7,  0. , 24.3,  4.1,  5.2],\n",
       "       [24.4,  5.7, 19.8,  3.2, 43.1, 11.6, 24.3,  0. , 28.2, 19. ],\n",
       "       [52.6, 34. , 48.1, 31.4, 71.3, 16.6,  4.1, 28.2,  0. ,  9.3],\n",
       "       [43.4, 24.8, 38.9, 22.2, 62.1,  7.4,  5.2, 19. ,  9.3,  0. ]])"
      ]
     },
     "execution_count": 40,
     "metadata": {},
     "output_type": "execute_result"
    }
   ],
   "source": [
    "from sklearn.metrics import pairwise_distances\n",
    "from sklearn.datasets import make_circles,make_blobs\n",
    "D = np.round(pairwise_distances(X_train),1) \n",
    "D"
   ]
  },
  {
   "cell_type": "code",
   "execution_count": 41,
   "metadata": {},
   "outputs": [
    {
     "data": {
      "text/plain": [
       "10"
      ]
     },
     "execution_count": 41,
     "metadata": {},
     "output_type": "execute_result"
    }
   ],
   "source": [
    "D.shape[0]"
   ]
  },
  {
   "cell_type": "code",
   "execution_count": 42,
   "metadata": {
    "scrolled": false
   },
   "outputs": [],
   "source": [
    "def min_dist(D):\n",
    "    minimum=10000  \n",
    "    min_x=0\n",
    "    min_y=0\n",
    "    for i in range(D.shape[0]):\n",
    "        for j in range(i):           \n",
    "            if D[i][j]<minimum:         \n",
    "                minimum=D[i][j]\n",
    "                min_x=i\n",
    "                min_y=j\n",
    "                #print(i,j,D[i][j])\n",
    "                \n",
    "    return (min_x,min_y),minimum"
   ]
  },
  {
   "cell_type": "code",
   "execution_count": 43,
   "metadata": {},
   "outputs": [
    {
     "data": {
      "text/plain": [
       "((3, 1), 2.6)"
      ]
     },
     "execution_count": 43,
     "metadata": {},
     "output_type": "execute_result"
    }
   ],
   "source": [
    "min_dist(D)"
   ]
  },
  {
   "cell_type": "markdown",
   "metadata": {},
   "source": [
    "## plot dendrogram (樹狀圖)"
   ]
  },
  {
   "cell_type": "code",
   "execution_count": 44,
   "metadata": {
    "scrolled": true
   },
   "outputs": [
    {
     "data": {
      "image/png": "[encoded data removed]",
      "text/plain": [
       "<Figure size 648x432 with 1 Axes>"
      ]
     },
     "metadata": {
      "needs_background": "light"
     },
     "output_type": "display_data"
    }
   ],
   "source": [
    "from scipy.cluster.hierarchy import linkage, fcluster, dendrogram\n",
    "from sklearn.datasets import make_blobs\n",
    "import matplotlib.pyplot as plt\n",
    "plt.figure(figsize=(9, 6))\n",
    "\n",
    "def plot_dendrogram(x, method='ward'):\n",
    "    Z = linkage(x, method)\n",
    "    dendrogram(Z)\n",
    "\n",
    "plot_dendrogram(X_train,'single')\n",
    "plt.show()"
   ]
  },
  {
   "cell_type": "markdown",
   "metadata": {},
   "source": [
    "## Comparing different hierarchical linkage methods"
   ]
  },
  {
   "cell_type": "code",
   "execution_count": 45,
   "metadata": {},
   "outputs": [
    {
     "data": {
      "image/png": "[encoded data removed]",
      "text/plain": [
       "<Figure size 1296x648 with 8 Axes>"
      ]
     },
     "metadata": {
      "needs_background": "light"
     },
     "output_type": "display_data"
    }
   ],
   "source": [
    "\n",
    "def compare_linkage(X):\n",
    "    \n",
    "    plt.figure(figsize=(18, 9))\n",
    "    linktype=['ward', 'complete', 'average', 'single']\n",
    "\n",
    "    for i,link in enumerate(linktype):\n",
    "        model = AgglomerativeClustering(n_clusters=2,linkage=link).fit(X)\n",
    "        cluster_labels=model.fit_predict(X)   \n",
    "        #plot scatter \n",
    "        plt.subplot(2,4,i+1)        \n",
    "        plot_scatter(X, cluster_labels)\n",
    "        plt.title(link)\n",
    "        # plot dendrogram\n",
    "        plt.subplot(2,4,i+5)        \n",
    "        plot_dendrogram(X,link)\n",
    "        plt.title(link)   \n",
    "\n",
    "    plt.show()     \n",
    "    \n",
    "compare_linkage(X_train)"
   ]
  },
  {
   "cell_type": "markdown",
   "metadata": {},
   "source": [
    "## Apply K-means with re-scaled data\n",
    "### Feature Re-scale "
   ]
  },
  {
   "cell_type": "code",
   "execution_count": 46,
   "metadata": {},
   "outputs": [
    {
     "name": "stdout",
     "output_type": "stream",
     "text": [
      "[35.46699923  4.88141106]\n",
      "[21.79486732  0.42879736]\n"
     ]
    },
    {
     "data": {
      "image/png": "[encoded data removed]",
      "text/plain": [
       "<Figure size 1296x648 with 8 Axes>"
      ]
     },
     "metadata": {
      "needs_background": "light"
     },
     "output_type": "display_data"
    }
   ],
   "source": [
    "from sklearn.preprocessing import StandardScaler\n",
    "sc = StandardScaler().fit(X_train)  #Compute the statistics to be used for later scaling.\n",
    "print(sc.mean_)  #mean\n",
    "print(sc.scale_) #standard deviation\n",
    "\n",
    "#transform: (x-u)/std.\n",
    "X_train_std = sc.transform(X_train)\n",
    "\n",
    "np.round(np.mean(X_train_std,axis=0),2)\n",
    "\n",
    "compare_linkage(X_train_std)"
   ]
  },
  {
   "cell_type": "code",
   "execution_count": 47,
   "metadata": {
    "scrolled": false
   },
   "outputs": [],
   "source": [
    "from sklearn.datasets import make_circles\n",
    "# make a synthetic dataset (circle) #array of shape [n_samples, 2]\n",
    "X, y = make_circles(n_samples=100, shuffle=True,factor=0.5, random_state=0, noise=0.05) "
   ]
  },
  {
   "cell_type": "code",
   "execution_count": 48,
   "metadata": {},
   "outputs": [
    {
     "name": "stdout",
     "output_type": "stream",
     "text": [
      "[[-0.97084503 -0.12673179]\n",
      " [-0.01989117 -0.45880462]\n",
      " [ 0.95036645  0.21475102]\n",
      " [ 0.3868271   0.25685525]\n",
      " [-0.53375109 -0.00663921]\n",
      " [ 0.34970205 -0.2956982 ]\n",
      " [-0.41722927  0.81854348]\n",
      " [-0.47625865  0.08139568]\n",
      " [ 0.42783229  0.26529816]\n",
      " [ 0.36259195 -0.27483444]]\n",
      "[0 1 0 1 1 1 0 1 1 1]\n"
     ]
    }
   ],
   "source": [
    "print(X[:10])\n",
    "print(y[:10])"
   ]
  },
  {
   "cell_type": "code",
   "execution_count": null,
   "metadata": {},
   "outputs": [],
   "source": [
    "compare_linkage(X)"
   ]
  },
  {
   "cell_type": "code",
   "execution_count": null,
   "metadata": {},
   "outputs": [],
   "source": []
  }
 ],
 "metadata": {
  "kernelspec": {
   "display_name": "Python 3",
   "language": "python",
   "name": "python3"
  },
  "language_info": {
   "codemirror_mode": {
    "name": "ipython",
    "version": 3
   },
   "file_extension": ".py",
   "mimetype": "text/x-python",
   "name": "python",
   "nbconvert_exporter": "python",
   "pygments_lexer": "ipython3",
   "version": "3.8.8"
  }
 },
 "nbformat": 4,
 "nbformat_minor": 2
}
