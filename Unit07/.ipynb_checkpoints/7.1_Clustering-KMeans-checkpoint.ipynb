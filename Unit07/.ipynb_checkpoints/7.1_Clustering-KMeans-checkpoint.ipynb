{
 "cells": [
  {
   "cell_type": "code",
   "execution_count": null,
   "metadata": {},
   "outputs": [],
   "source": [
    "from sklearn.cluster import KMeans\n",
    "import pandas as pd\n",
    "import numpy as np\n",
    "import matplotlib.pyplot as plt\n",
    "from sklearn import datasets"
   ]
  },
  {
   "cell_type": "markdown",
   "metadata": {},
   "source": [
    "# Step1:準備資料"
   ]
  },
  {
   "cell_type": "code",
   "execution_count": null,
   "metadata": {},
   "outputs": [],
   "source": [
    "iris=datasets.load_iris()"
   ]
  },
  {
   "cell_type": "code",
   "execution_count": null,
   "metadata": {},
   "outputs": [],
   "source": [
    "X=iris.data\n",
    "X=X[:,2:4]"
   ]
  },
  {
   "cell_type": "markdown",
   "metadata": {},
   "source": [
    "# Step2:建立模型\n",
    "## n_clusters: k值\n",
    "## init: 'random' / 'k-means++' / 自行給定\n",
    "## max_iter: 最多迭代次數\n",
    "## tol: 中心點誤差忍受 (最好不要設0)\n",
    "## random_state: 隨機種子"
   ]
  },
  {
   "cell_type": "code",
   "execution_count": null,
   "metadata": {},
   "outputs": [],
   "source": []
  },
  {
   "cell_type": "markdown",
   "metadata": {},
   "source": [
    "# Step3: 進行分群"
   ]
  },
  {
   "cell_type": "code",
   "execution_count": null,
   "metadata": {},
   "outputs": [],
   "source": []
  },
  {
   "cell_type": "markdown",
   "metadata": {},
   "source": [
    "# Step4: 圖像化結果"
   ]
  },
  {
   "cell_type": "code",
   "execution_count": null,
   "metadata": {},
   "outputs": [],
   "source": []
  },
  {
   "cell_type": "markdown",
   "metadata": {},
   "source": [
    "# 額外補充: 與真實情況對照"
   ]
  },
  {
   "cell_type": "code",
   "execution_count": null,
   "metadata": {},
   "outputs": [],
   "source": [
    "iris=datasets.load_iris()\n",
    "features=iris.data\n",
    "target=iris.target\n",
    "target_names=iris.target_names\n",
    "labels=target_names[target]\n",
    "\n",
    "setosa_petal_length=features[labels=='setosa',2]\n",
    "setosa_petal_width=features[labels=='setosa',3]\n",
    "setosa=np.c_[setosa_petal_length,setosa_petal_width]\n",
    "\n",
    "versicolor_petal_length=features[labels=='versicolor',2]\n",
    "versicolor_petal_width=features[labels=='versicolor',3]\n",
    "versicolor=np.c_[versicolor_petal_length,versicolor_petal_width]\n",
    "\n",
    "virginica_petal_length=features[labels=='virginica',2]\n",
    "virginica_petal_width=features[labels=='virginica',3]\n",
    "virginica=np.c_[virginica_petal_length,virginica_petal_width]\n",
    "\n",
    "plt.scatter(setosa[:,0],setosa[:,1],color='red')\n",
    "plt.scatter(versicolor[:,0],versicolor[:,1],color='blue')\n",
    "plt.scatter(virginica[:,0],virginica[:,1],color='green')"
   ]
  },
  {
   "cell_type": "markdown",
   "metadata": {},
   "source": [
    "# K-Medoids\n",
    "## 中心點為實際樣本點，且新中心點的決定方式為選取使群內距離和最小的點\n",
    "> pip install scikit-learn-extra"
   ]
  },
  {
   "cell_type": "code",
   "execution_count": null,
   "metadata": {},
   "outputs": [],
   "source": [
    "from sklearn_extra.cluster import KMedoids"
   ]
  },
  {
   "cell_type": "code",
   "execution_count": null,
   "metadata": {},
   "outputs": [],
   "source": []
  }
 ],
 "metadata": {
  "kernelspec": {
   "display_name": "Python 3",
   "language": "python",
   "name": "python3"
  },
  "language_info": {
   "codemirror_mode": {
    "name": "ipython",
    "version": 3
   },
   "file_extension": ".py",
   "mimetype": "text/x-python",
   "name": "python",
   "nbconvert_exporter": "python",
   "pygments_lexer": "ipython3",
   "version": "3.8.8"
  }
 },
 "nbformat": 4,
 "nbformat_minor": 2
}
