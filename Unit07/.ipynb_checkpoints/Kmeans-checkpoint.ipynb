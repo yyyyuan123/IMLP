{
 "cells": [
  {
   "cell_type": "markdown",
   "metadata": {},
   "source": [
    "# K-Means Clustering\n",
    "## Perform K-means clustering on each pixel’s color\n"
   ]
  },
  {
   "cell_type": "code",
   "execution_count": 3,
   "metadata": {},
   "outputs": [
    {
     "name": "stdout",
     "output_type": "stream",
     "text": [
      "#Original img \n",
      " [[129 175 100]\n",
      " [129 175 100]\n",
      " [129 175 100]\n",
      " ...\n",
      " [161 190 123]\n",
      " [161 190 123]\n",
      " [161 190 123]]\n",
      "#After scale= \n",
      " [[0.50588235 0.68627451 0.39215686]\n",
      " [0.50588235 0.68627451 0.39215686]\n",
      " [0.50588235 0.68627451 0.39215686]\n",
      " ...\n",
      " [0.63137255 0.74509804 0.48235294]\n",
      " [0.63137255 0.74509804 0.48235294]\n",
      " [0.63137255 0.74509804 0.48235294]]\n"
     ]
    }
   ],
   "source": [
    "import os\n",
    "from os.path import join\n",
    "import numpy as np\n",
    "import matplotlib.pyplot as plt\n",
    "from skimage import io\n",
    "import cv2\n",
    "\n",
    "\n",
    "DATA = 'data/bird.jpg'\n",
    "img = io.imread(DATA)\n",
    "print('#Original img \\n',img[0])\n",
    "#plt.imshow(img)\n",
    "#plt.show()\n",
    "'''\n",
    "print(type(img))    # 型別\n",
    "print(img.shape)    # 形狀\n",
    "print(img.shape[0]) # 圖片寬度\n",
    "print(img.shape[1]) # 圖片高度\n",
    "print(img.shape[2]) # 圖片通道數\n",
    "print(img.size)     # 顯示總畫素個數\n",
    "print(img.max())    # 最大畫素值\n",
    "print(img.min())    # 最小畫素值\n",
    "print(img.mean())   # 畫素平均值\n",
    "'''\n",
    "\n",
    "data = img / 255.0 # use 0...1 scale\n",
    "print('#After scale= \\n',data[0])"
   ]
  },
  {
   "cell_type": "code",
   "execution_count": 4,
   "metadata": {},
   "outputs": [
    {
     "data": {
      "text/plain": [
       "(1048576, 3)"
      ]
     },
     "execution_count": 4,
     "metadata": {},
     "output_type": "execute_result"
    }
   ],
   "source": [
    "data = data.reshape(int(img.shape[0]) * int(img.shape[1]), 3)\n",
    "data.shape"
   ]
  },
  {
   "cell_type": "code",
   "execution_count": 6,
   "metadata": {},
   "outputs": [
    {
     "name": "stdout",
     "output_type": "stream",
     "text": [
      "#Loading the image:\n",
      " [[100 175 129]\n",
      " [100 175 129]\n",
      " [100 175 129]\n",
      " ...\n",
      " [123 190 161]\n",
      " [123 190 161]\n",
      " [123 190 161]]\n",
      "#convert the image into RGB format\n",
      "#Loading the image:\n",
      " [[129 175 100]\n",
      " [129 175 100]\n",
      " [129 175 100]\n",
      " ...\n",
      " [161 190 123]\n",
      " [161 190 123]\n",
      " [161 190 123]]\n"
     ]
    }
   ],
   "source": [
    "#https://www.thepythoncode.com/article/kmeans-for-image-segmentation-opencv-python\n",
    "%matplotlib inline\n",
    "import cv2\n",
    "import os\n",
    "from os.path import join\n",
    "import numpy as np\n",
    "import matplotlib.pyplot as plt\n",
    "\n",
    "image = cv2.imread('data/bird.jpg')\n",
    "print(\"#Loading the image:\\n\",image[0])\n",
    "print(\"#convert the image into RGB format\")\n",
    "image2 = cv2.cvtColor(image, cv2.COLOR_BGR2RGB)\n",
    "\n",
    "print(\"#Loading the image:\\n\",image2[0])"
   ]
  },
  {
   "cell_type": "markdown",
   "metadata": {},
   "source": [
    "#### We gonna use cv2.kmeans() function which takes a 2D array as input, and since our original image is 3D (width, height and depth of 3 RGB values), we need to flatten the height and width into a single vector of pixels (3 RGB values):\n"
   ]
  },
  {
   "cell_type": "code",
   "execution_count": 17,
   "metadata": {},
   "outputs": [
    {
     "name": "stdout",
     "output_type": "stream",
     "text": [
      "(1024, 1024, 3)\n",
      "[[100. 175. 129.]\n",
      " [100. 175. 129.]\n",
      " [100. 175. 129.]\n",
      " ...\n",
      " [109. 207. 153.]\n",
      " [109. 207. 153.]\n",
      " [109. 207. 153.]]\n"
     ]
    }
   ],
   "source": [
    "print(image.shape)\n",
    "# reshape the image to a 2D array of pixels and 3 color values (RGB)\n",
    "pixel_values = image.reshape((-1, 3))\n",
    "# convert to float\n",
    "pixel_values = np.float32(pixel_values)\n",
    "print(pixel_values)"
   ]
  },
  {
   "cell_type": "code",
   "execution_count": null,
   "metadata": {},
   "outputs": [],
   "source": [
    "# define stopping criteria\n",
    "criteria = (cv2.TERM_CRITERIA_EPS + cv2.TERM_CRITERIA_MAX_ITER, 100, 0.2)\n",
    "# number of clusters (K)\n",
    "k = 32\n",
    "_, labels, (centers) = cv2.kmeans(pixel_values, k, None, criteria, 10, cv2.KMEANS_RANDOM_CENTERS)\n",
    "\n",
    "# convert back to 8 bit values\n",
    "centers = np.uint8(centers)\n",
    "print(\"centers=\",centers )\n",
    "# flatten the labels array\n",
    "labels = labels.flatten()\n",
    "\n",
    "\n",
    "# convert all pixels to the color of the centroids\n",
    "segmented_image = centers[labels.flatten()]\n",
    "\n",
    "# reshape back to the original image dimension\n",
    "segmented_image = segmented_image.reshape(image.shape)\n",
    "segmented_image = cv2.cvtColor(segmented_image, cv2.COLOR_BGR2RGB)\n",
    "\n",
    "# show the image\n",
    "print(\"k = 32\")\n",
    "plt.imshow(segmented_image)\n",
    "plt.show()\n",
    "cv2.imwrite('img_32.png',segmented_image)"
   ]
  },
  {
   "cell_type": "markdown",
   "metadata": {},
   "source": [
    "## Perform K-means clustering on each pixel’s color  and location"
   ]
  },
  {
   "cell_type": "code",
   "execution_count": 10,
   "metadata": {},
   "outputs": [
    {
     "name": "stdout",
     "output_type": "stream",
     "text": [
      "#convert the image into RGB format\n",
      " [[100 175 129]\n",
      " [100 175 129]\n",
      " [100 175 129]\n",
      " ...\n",
      " [123 190 161]\n",
      " [123 190 161]\n",
      " [123 190 161]]\n",
      "===\n",
      "[1023 1023]\n",
      "1048576\n",
      "(1048576, 5)\n"
     ]
    }
   ],
   "source": [
    "%matplotlib inline\n",
    "import cv2\n",
    "import os\n",
    "from os.path import join\n",
    "import numpy as np\n",
    "import matplotlib.pyplot as plt\n",
    "\n",
    "ROOT = os.getcwd()\n",
    "img = cv2.imread(join(ROOT, 'bird.jpg'))\n",
    "#print(\"#Loading the image:\\n\",image[0])\n",
    "print(\"#convert the image into RGB format\\n\",img[0])\n",
    "img_bird = cv2.cvtColor(img, cv2.COLOR_BGR2RGB)\n",
    "\n",
    "print(\"===\")\n",
    "'''\n",
    "#Demo hstack 資料個數一樣\n",
    "a = np.array([[0,0],[0,1],[1,0],[1,2]])\n",
    "b = np.array( [[100,175,129],[100,175,129],[100,175,129],[100,175,129]])\n",
    "print(a.shape,b.shape,np.hstack((a,b)))\n",
    "'''\n",
    "\n",
    "xy = np.ones((img_bird.shape[0]*img_bird.shape[1],2),dtype=\"int32\") #圖片[0]寬度[1]高度\n",
    "x = 0\n",
    "y = 0\n",
    "for index in range(img_bird.shape[0]*img_bird.shape[1]):\n",
    "    xy[index]=[x,y]\n",
    "    if y == img_bird.shape[1]-1:\n",
    "        x += 1\n",
    "        y = 0\n",
    "    else:\n",
    "        y += 1\n",
    "\n",
    "print(xy[-1])\n",
    "\n",
    "b = np.array(img_bird)\n",
    "b = img_bird.reshape((-1, 3))\n",
    "print(len(b))\n",
    "pixel_values = np.hstack((xy,b))\n",
    "print(pixel_values.shape)\n",
    "pixel_values = np.float32(pixel_values)\n",
    "\n"
   ]
  },
  {
   "cell_type": "code",
   "execution_count": 13,
   "metadata": {},
   "outputs": [
    {
     "name": "stdout",
     "output_type": "stream",
     "text": [
      "(1048576, 3)\n",
      "k = 32\n"
     ]
    },
    {
     "data": {
      "image/png": "[encoded data removed]",
      "text/plain": [
       "<Figure size 432x288 with 1 Axes>"
      ]
     },
     "metadata": {
      "needs_background": "light"
     },
     "output_type": "display_data"
    }
   ],
   "source": [
    "# define stopping criteria\n",
    "criteria = (cv2.TERM_CRITERIA_EPS + cv2.TERM_CRITERIA_MAX_ITER, 100, 0.2)\n",
    "# number of clusters (K)\n",
    "k = 32\n",
    "_, labels, (centers) = cv2.kmeans(pixel_values, k, None, criteria, 10, cv2.KMEANS_RANDOM_CENTERS)\n",
    "\n",
    "# convert back to 8 bit values\n",
    "centers = np.uint8(centers)\n",
    "# flatten the labels array\n",
    "labels = labels.flatten()\n",
    "\n",
    "# convert all pixels to the color of the centroids\n",
    "segmented_image = centers[labels.flatten()]\n",
    "\n",
    "img_result = np.delete(segmented_image, [0,1], axis=1)\n",
    "print(img_result.shape)\n",
    "\n",
    "# reshape back to the original image dimension\n",
    "img_result = img_result.reshape(img.shape)\n",
    "# show the image\n",
    "print(\"k =\",k)\n",
    "plt.imshow(img_result)\n",
    "plt.show()\n"
   ]
  },
  {
   "cell_type": "code",
   "execution_count": null,
   "metadata": {},
   "outputs": [],
   "source": []
  },
  {
   "cell_type": "code",
   "execution_count": null,
   "metadata": {},
   "outputs": [],
   "source": []
  }
 ],
 "metadata": {
  "kernelspec": {
   "display_name": "Python 3",
   "language": "python",
   "name": "python3"
  },
  "language_info": {
   "codemirror_mode": {
    "name": "ipython",
    "version": 3
   },
   "file_extension": ".py",
   "mimetype": "text/x-python",
   "name": "python",
   "nbconvert_exporter": "python",
   "pygments_lexer": "ipython3",
   "version": "3.8.8"
  }
 },
 "nbformat": 4,
 "nbformat_minor": 4
}
