{
 "cells": [
  {
   "cell_type": "code",
   "execution_count": 3,
   "metadata": {},
   "outputs": [
    {
     "name": "stdout",
     "output_type": "stream",
     "text": [
      "[0.4  0.53]\n"
     ]
    },
    {
     "data": {
      "text/html": [
       "<div>\n",
       "<style scoped>\n",
       "    .dataframe tbody tr th:only-of-type {\n",
       "        vertical-align: middle;\n",
       "    }\n",
       "\n",
       "    .dataframe tbody tr th {\n",
       "        vertical-align: top;\n",
       "    }\n",
       "\n",
       "    .dataframe thead th {\n",
       "        text-align: right;\n",
       "    }\n",
       "</style>\n",
       "<table border=\"1\" class=\"dataframe\">\n",
       "  <thead>\n",
       "    <tr style=\"text-align: right;\">\n",
       "      <th></th>\n",
       "      <th>x</th>\n",
       "      <th>y</th>\n",
       "    </tr>\n",
       "  </thead>\n",
       "  <tbody>\n",
       "    <tr>\n",
       "      <th>0</th>\n",
       "      <td>0.40</td>\n",
       "      <td>0.53</td>\n",
       "    </tr>\n",
       "    <tr>\n",
       "      <th>1</th>\n",
       "      <td>0.22</td>\n",
       "      <td>0.38</td>\n",
       "    </tr>\n",
       "    <tr>\n",
       "      <th>2</th>\n",
       "      <td>0.35</td>\n",
       "      <td>0.32</td>\n",
       "    </tr>\n",
       "    <tr>\n",
       "      <th>3</th>\n",
       "      <td>0.26</td>\n",
       "      <td>0.19</td>\n",
       "    </tr>\n",
       "    <tr>\n",
       "      <th>4</th>\n",
       "      <td>0.08</td>\n",
       "      <td>0.41</td>\n",
       "    </tr>\n",
       "    <tr>\n",
       "      <th>5</th>\n",
       "      <td>0.45</td>\n",
       "      <td>0.30</td>\n",
       "    </tr>\n",
       "  </tbody>\n",
       "</table>\n",
       "</div>"
      ],
      "text/plain": [
       "      x     y\n",
       "0  0.40  0.53\n",
       "1  0.22  0.38\n",
       "2  0.35  0.32\n",
       "3  0.26  0.19\n",
       "4  0.08  0.41\n",
       "5  0.45  0.30"
      ]
     },
     "execution_count": 3,
     "metadata": {},
     "output_type": "execute_result"
    }
   ],
   "source": [
    "import numpy as np \n",
    "from math import log\n",
    "import matplotlib\n",
    "import matplotlib.pyplot as plt\n",
    "import pandas as pd\n",
    "from pandas.plotting import scatter_matrix\n",
    "%matplotlib inline\n",
    "\n",
    "\n",
    "def euclidean_distance(x, y):   \n",
    "    return np.sqrt(np.sum((x - y) ** 2))\n",
    "\n",
    "\n",
    "X = np.array([[0.40, 0.53],\n",
    "              [0.22, 0.38],\n",
    "              [0.35, 0.32],\n",
    "              [0.26, 0.19],\n",
    "              [0.08, 0.41],\n",
    "              [0.45, 0.30]])\n",
    "print(X[0])\n",
    "df = pd.DataFrame(X, columns=['x', 'y'])\n",
    "df"
   ]
  },
  {
   "cell_type": "code",
   "execution_count": 4,
   "metadata": {},
   "outputs": [
    {
     "data": {
      "image/png": "[encoded data removed]",
      "text/plain": [
       "<Figure size 432x288 with 1 Axes>"
      ]
     },
     "metadata": {
      "needs_background": "light"
     },
     "output_type": "display_data"
    }
   ],
   "source": [
    "ax = df.plot.scatter(x='x', y='y', c='blue')"
   ]
  },
  {
   "cell_type": "code",
   "execution_count": 5,
   "metadata": {},
   "outputs": [
    {
     "data": {
      "text/plain": [
       "array([0.4 , 0.53])"
      ]
     },
     "execution_count": 5,
     "metadata": {},
     "output_type": "execute_result"
    }
   ],
   "source": [
    "data = [[0.40, 0.53],\n",
    "        [0.22, 0.38],\n",
    "        [0.35, 0.32],\n",
    "        [0.26, 0.19],\n",
    "        [0.08, 0.41],\n",
    "        [0.45, 0.30]]\n",
    "name = ['P1', 'P2','P3','P4','P5','P6']\n",
    "df = pd.DataFrame(data, columns=['x', 'y'], index=name)\n",
    "\n",
    "n_df=(df.values)\n",
    "n_df\n",
    "n_df[0]"
   ]
  },
  {
   "cell_type": "code",
   "execution_count": 6,
   "metadata": {},
   "outputs": [
    {
     "data": {
      "text/plain": [
       "(6, 2)"
      ]
     },
     "execution_count": 6,
     "metadata": {},
     "output_type": "execute_result"
    }
   ],
   "source": [
    "(df.values).shape"
   ]
  },
  {
   "cell_type": "code",
   "execution_count": 7,
   "metadata": {},
   "outputs": [
    {
     "data": {
      "text/plain": [
       "array([[0., 0., 0., 0., 0., 0.],\n",
       "       [0., 0., 0., 0., 0., 0.],\n",
       "       [0., 0., 0., 0., 0., 0.],\n",
       "       [0., 0., 0., 0., 0., 0.],\n",
       "       [0., 0., 0., 0., 0., 0.],\n",
       "       [0., 0., 0., 0., 0., 0.]])"
      ]
     },
     "execution_count": 7,
     "metadata": {},
     "output_type": "execute_result"
    }
   ],
   "source": [
    "matrix=np.zeros(((df.values).shape[0],(df.values).shape[0]))\n",
    "matrix"
   ]
  },
  {
   "cell_type": "code",
   "execution_count": 8,
   "metadata": {},
   "outputs": [
    {
     "name": "stdout",
     "output_type": "stream",
     "text": [
      "[[0.   0.23 0.22 0.37 0.34 0.24]\n",
      " [0.23 0.   0.14 0.19 0.14 0.24]\n",
      " [0.22 0.14 0.   0.16 0.28 0.1 ]\n",
      " [0.37 0.19 0.16 0.   0.28 0.22]\n",
      " [0.34 0.14 0.28 0.28 0.   0.39]\n",
      " [0.24 0.24 0.1  0.22 0.39 0.  ]]\n"
     ]
    }
   ],
   "source": [
    "#distance matrix\n",
    "for i in range((df.values).shape[0]):\n",
    "    for j in range((df.values).shape[0]):\n",
    "        matrix[i,j]=np.round(np.sqrt(np.sum((n_df[i]-n_df[j])**2)),2)\n",
    "        #print('i',i,'j',j)\n",
    "\n",
    "\n",
    "print(matrix)"
   ]
  },
  {
   "cell_type": "code",
   "execution_count": 9,
   "metadata": {
    "scrolled": false
   },
   "outputs": [
    {
     "data": {
      "text/plain": [
       "array([[19.45561728, 20.11092259, 18.84900642],\n",
       "       [ 9.43771247,  8.98716888, 10.31424733],\n",
       "       [ 1.52302986, -0.23415337, -0.23413696],\n",
       "       [19.7742237 , 20.0675282 , 18.57525181],\n",
       "       [ 0.49671415, -0.1382643 ,  0.64768854],\n",
       "       [ 1.57921282,  0.76743473, -0.46947439],\n",
       "       [10.24196227,  8.08671976,  8.27508217],\n",
       "       [20.37569802, 19.39936131, 19.70830625],\n",
       "       [ 9.09197592,  8.5876963 , 11.46564877],\n",
       "       [ 0.54256004, -0.46341769, -0.46572975]])"
      ]
     },
     "execution_count": 9,
     "metadata": {},
     "output_type": "execute_result"
    }
   ],
   "source": [
    "from sklearn.metrics import pairwise_distances\n",
    "from sklearn.datasets import make_circles,make_blobs\n",
    "\n",
    "centers = np.array([\n",
    "    [0., 0., 0.],\n",
    "    [10., 10., 10.],\n",
    "    [20., 20., 20.],\n",
    "])\n",
    "\n",
    "#when you set centers as array, n_features is ignored \n",
    "X, true_labels = make_blobs(n_samples=10,centers=centers,\n",
    "                            cluster_std=1.0, random_state=42)\n",
    "\n",
    "#cluster_std: The standard deviation of the clusters.\n",
    "#x,y = make_blobs(n_samples=200, n_features=2, centers=4, cluster_std=1.6, random_state=50) \n",
    "\n",
    "X[:10]"
   ]
  },
  {
   "cell_type": "code",
   "execution_count": 10,
   "metadata": {},
   "outputs": [
    {
     "data": {
      "text/plain": [
       "(10, 10)"
      ]
     },
     "execution_count": 10,
     "metadata": {},
     "output_type": "execute_result"
    }
   ],
   "source": [
    "D = pairwise_distances(X)  # Distance matrix\n",
    "D.shape"
   ]
  },
  {
   "cell_type": "code",
   "execution_count": 11,
   "metadata": {},
   "outputs": [
    {
     "data": {
      "text/plain": [
       "34.5669651593156"
      ]
     },
     "execution_count": 11,
     "metadata": {},
     "output_type": "execute_result"
    }
   ],
   "source": [
    "np.max(D)"
   ]
  },
  {
   "cell_type": "code",
   "execution_count": 12,
   "metadata": {},
   "outputs": [
    {
     "data": {
      "text/plain": [
       "array([[ 0.        , 17.2319014 , 33.16121483,  0.42229695, 33.17766644,\n",
       "        32.66404843, 18.47378593,  1.4461204 , 17.16693847, 33.97155053],\n",
       "       [17.2319014 ,  0.        , 16.09171825, 17.25867962, 16.02052872,\n",
       "        15.671908  ,  2.36977234, 17.78487059,  1.26682176, 16.87143234],\n",
       "       [33.16121483, 16.09171825,  0.        , 33.1520355 ,  1.3565157 ,\n",
       "         1.03039748, 14.75342408, 33.74313318, 16.49239104,  1.03320782],\n",
       "       [ 0.42229695, 17.25867962, 33.1520355 ,  0.        , 33.1857492 ,\n",
       "        32.65353925, 18.45256822,  1.4463854 , 17.21753216, 33.96962769],\n",
       "       [33.17766644, 16.02052872,  1.3565157 , 33.1857492 ,  0.        ,\n",
       "         1.80004086, 14.85925157, 33.76684708, 16.34163936,  1.16083025],\n",
       "       [32.66404843, 15.671908  ,  1.03039748, 32.65353925,  1.80004086,\n",
       "         0.        , 14.32069938, 33.28061561, 16.12591905,  1.60924227],\n",
       "       [18.47378593,  2.36977234, 14.75342408, 18.45256822, 14.85925157,\n",
       "        14.32069938,  0.        , 19.01018338,  3.4282884 , 15.60721138],\n",
       "       [ 1.4461204 , 17.78487059, 33.74313318,  1.4463854 , 33.76684708,\n",
       "        33.28061561, 19.01018338,  0.        , 17.66793386, 34.56696516],\n",
       "       [17.16693847,  1.26682176, 16.49239104, 17.21753216, 16.34163936,\n",
       "        16.12591905,  3.4282884 , 17.66793386,  0.        , 17.2445055 ],\n",
       "       [33.97155053, 16.87143234,  1.03320782, 33.96962769,  1.16083025,\n",
       "         1.60924227, 15.60721138, 34.56696516, 17.2445055 ,  0.        ]])"
      ]
     },
     "execution_count": 12,
     "metadata": {},
     "output_type": "execute_result"
    }
   ],
   "source": [
    "D"
   ]
  },
  {
   "cell_type": "code",
   "execution_count": null,
   "metadata": {},
   "outputs": [],
   "source": []
  }
 ],
 "metadata": {
  "kernelspec": {
   "display_name": "Python 3",
   "language": "python",
   "name": "python3"
  },
  "language_info": {
   "codemirror_mode": {
    "name": "ipython",
    "version": 3
   },
   "file_extension": ".py",
   "mimetype": "text/x-python",
   "name": "python",
   "nbconvert_exporter": "python",
   "pygments_lexer": "ipython3",
   "version": "3.8.8"
  }
 },
 "nbformat": 4,
 "nbformat_minor": 2
}
